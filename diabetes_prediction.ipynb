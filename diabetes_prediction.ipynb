{
  "nbformat": 4,
  "nbformat_minor": 0,
  "metadata": {
    "colab": {
      "name": "diabetes_prediction.ipynb",
      "provenance": [],
      "authorship_tag": "ABX9TyMw4E9fnRCXpy0i9YpNSgW0",
      "include_colab_link": true
    },
    "kernelspec": {
      "display_name": "Python 3",
      "name": "python3"
    },
    "language_info": {
      "name": "python"
    }
  },
  "cells": [
    {
      "cell_type": "markdown",
      "metadata": {
        "id": "view-in-github",
        "colab_type": "text"
      },
      "source": [
        "<a href=\"https://colab.research.google.com/github/ann-maria-shaji/myprojects/blob/main/diabetes_prediction.ipynb\" target=\"_parent\"><img src=\"https://colab.research.google.com/assets/colab-badge.svg\" alt=\"Open In Colab\"/></a>"
      ]
    },
    {
      "cell_type": "code",
      "metadata": {
        "id": "oCYLTZuXVwS-"
      },
      "source": [
        "import warnings\n",
        "warnings.filterwarnings('ignore')\n",
        "import numpy as np\n",
        "import pandas as pd\n",
        "from sklearn.preprocessing import MinMaxScaler\n",
        "from sklearn.model_selection import train_test_split,cross_val_score\n",
        "from sklearn.linear_model import LogisticRegression\n",
        "from sklearn.metrics import accuracy_score, f1_score, precision_score,confusion_matrix,recall_score,roc_auc_score\n",
        "from xgboost import XGBClassifier\n",
        "from sklearn.ensemble import RandomForestClassifier, AdaBoostClassifier\n",
        "from sklearn.svm import SVC\n",
        "import matplotlib.pyplot as plt\n",
        "%matplotlib inline\n",
        "import seaborn as sns\n"
      ],
      "execution_count": null,
      "outputs": []
    },
    {
      "cell_type": "code",
      "metadata": {
        "id": "N1tSX6CecVaE"
      },
      "source": [
        "df = pd.read_csv('/content/diabetes_data_upload.csv')\n",
        "df.head()"
      ],
      "execution_count": null,
      "outputs": []
    },
    {
      "cell_type": "markdown",
      "metadata": {
        "id": "vVoKZYsaeFgr"
      },
      "source": [
        "Checking missing values\n"
      ]
    },
    {
      "cell_type": "code",
      "metadata": {
        "colab": {
          "base_uri": "https://localhost:8080/"
        },
        "id": "Vb9KJJyHeNVI",
        "outputId": "f401dc69-890f-4458-de42-09714ad5315b"
      },
      "source": [
        "df.isna().sum()"
      ],
      "execution_count": null,
      "outputs": [
        {
          "data": {
            "text/plain": [
              "Age                   0\n",
              "Gender                0\n",
              "highurine             0\n",
              "thirst                0\n",
              "sudden weight loss    0\n",
              "weakness              0\n",
              "Polyphagia            0\n",
              "visual blurring       0\n",
              "Irritability          0\n",
              "partial paresis       0\n",
              "muscle stiffness      0\n",
              "Obesity               0\n",
              "class                 0\n",
              "dtype: int64"
            ]
          },
          "execution_count": 4,
          "metadata": {},
          "output_type": "execute_result"
        }
      ]
    },
    {
      "cell_type": "code",
      "metadata": {
        "colab": {
          "base_uri": "https://localhost:8080/"
        },
        "id": "a42syjuOeX_-",
        "outputId": "9ca37bda-619b-4e7a-ae9b-d05056e05b07"
      },
      "source": [
        "df.info()"
      ],
      "execution_count": null,
      "outputs": [
        {
          "name": "stdout",
          "output_type": "stream",
          "text": [
            "<class 'pandas.core.frame.DataFrame'>\n",
            "RangeIndex: 520 entries, 0 to 519\n",
            "Data columns (total 13 columns):\n",
            " #   Column              Non-Null Count  Dtype \n",
            "---  ------              --------------  ----- \n",
            " 0   Age                 520 non-null    int64 \n",
            " 1   Gender              520 non-null    object\n",
            " 2   highurine           520 non-null    object\n",
            " 3   thirst              520 non-null    object\n",
            " 4   sudden weight loss  520 non-null    object\n",
            " 5   weakness            520 non-null    object\n",
            " 6   Polyphagia          520 non-null    object\n",
            " 7   visual blurring     520 non-null    object\n",
            " 8   Irritability        520 non-null    object\n",
            " 9   partial paresis     520 non-null    object\n",
            " 10  muscle stiffness    520 non-null    object\n",
            " 11  Obesity             520 non-null    object\n",
            " 12  class               520 non-null    object\n",
            "dtypes: int64(1), object(12)\n",
            "memory usage: 52.9+ KB\n"
          ]
        }
      ]
    },
    {
      "cell_type": "markdown",
      "metadata": {
        "id": "Ixx4OKitey9e"
      },
      "source": [
        "Distribution of Target variable"
      ]
    },
    {
      "cell_type": "code",
      "metadata": {
        "colab": {
          "base_uri": "https://localhost:8080/",
          "height": 296
        },
        "id": "XVZXIAiue6VC",
        "outputId": "df444517-b984-4a5d-c916-5db4acf63621"
      },
      "source": [
        "import seaborn as sns\n",
        "sns.countplot(df['class'],data=df)"
      ],
      "execution_count": null,
      "outputs": [
        {
          "data": {
            "text/plain": [
              "<matplotlib.axes._subplots.AxesSubplot at 0x7f269c191150>"
            ]
          },
          "execution_count": 6,
          "metadata": {},
          "output_type": "execute_result"
        },
        {
          "data": {
            "image/png": "[encoded data removed]",
            "text/plain": [
              "<Figure size 432x288 with 1 Axes>"
            ]
          },
          "metadata": {},
          "output_type": "display_data"
        }
      ]
    },
    {
      "cell_type": "code",
      "metadata": {
        "colab": {
          "background_save": true,
          "base_uri": "https://localhost:8080/",
          "height": 296
        },
        "id": "7eqQkc7bguD_",
        "outputId": "c1bdddbe-9924-4c87-ba0f-f71b95feb723"
      },
      "source": [
        "#distribution of gender\n",
        "#similarly we can plot distribution of any features\n",
        "import seaborn as sns\n",
        "sns.countplot(df['Gender'],hue=df['class'],data=df) "
      ],
      "execution_count": null,
      "outputs": [
        {
          "data": {
            "text/plain": [
              "<matplotlib.axes._subplots.AxesSubplot at 0x7f2693060950>"
            ]
          },
          "execution_count": null,
          "metadata": {},
          "output_type": "execute_result"
        },
        {
          "data": {
            "image/png": "[encoded data removed]",
            "text/plain": [
              "<Figure size 432x288 with 1 Axes>"
            ]
          },
          "metadata": {},
          "output_type": "display_data"
        }
      ]
    },
    {
      "cell_type": "markdown",
      "metadata": {
        "id": "VJ_vokr7hYbB"
      },
      "source": [
        "Data pre-processing\n"
      ]
    },
    {
      "cell_type": "code",
      "metadata": {
        "colab": {
          "base_uri": "https://localhost:8080/"
        },
        "id": "ljAgXMJghbds",
        "outputId": "ddeadf4e-4529-4be6-cc94-72ca2cef4675"
      },
      "source": [
        "\n",
        "df[\"class\"] = df[\"class\"].apply(lambda x:0 if x==\"Negative\" else 1)\n",
        "print(df[\"class\"])"
      ],
      "execution_count": null,
      "outputs": [
        {
          "name": "stdout",
          "output_type": "stream",
          "text": [
            "0      1\n",
            "1      1\n",
            "2      1\n",
            "3      1\n",
            "4      1\n",
            "      ..\n",
            "515    1\n",
            "516    1\n",
            "517    1\n",
            "518    0\n",
            "519    0\n",
            "Name: class, Length: 520, dtype: int64\n"
          ]
        }
      ]
    },
    {
      "cell_type": "code",
      "metadata": {
        "id": "HZZjg1euoKj9"
      },
      "source": [
        "X = df.drop([\"class\"],axis=1)\n",
        "y = df[\"class\"]"
      ],
      "execution_count": null,
      "outputs": []
    },
    {
      "cell_type": "code",
      "metadata": {
        "colab": {
          "base_uri": "https://localhost:8080/"
        },
        "id": "9Ipq0gcvoRoa",
        "outputId": "cfad63d4-9dfc-4f88-e82d-3d80c3b3e3f3"
      },
      "source": [
        "objList = X.select_dtypes(include =\"object\").columns\n",
        "print(objList)"
      ],
      "execution_count": null,
      "outputs": [
        {
          "name": "stdout",
          "output_type": "stream",
          "text": [
            "Index(['Gender', 'highurine', 'thirst', 'sudden weight loss', 'weakness',\n",
            "       'Polyphagia', 'visual blurring', 'Irritability', 'partial paresis',\n",
            "       'muscle stiffness', 'Obesity'],\n",
            "      dtype='object')\n"
          ]
        }
      ]
    },
    {
      "cell_type": "code",
      "metadata": {
        "colab": {
          "base_uri": "https://localhost:8080/"
        },
        "id": "N0_qxd_KkYPD",
        "outputId": "b15dca54-a8e4-4e6f-8703-37fb53a40c5d"
      },
      "source": [
        "#label encoding for object to numeric conversion\n",
        "from sklearn.preprocessing import LabelEncoder\n",
        "le = LabelEncoder()\n",
        "\n",
        "for feat in objList:\n",
        "  X[feat] = le.fit_transform(X[feat].astype(str))\n",
        "  print(X.info())"
      ],
      "execution_count": null,
      "outputs": [
        {
          "name": "stdout",
          "output_type": "stream",
          "text": [
            "<class 'pandas.core.frame.DataFrame'>\n",
            "RangeIndex: 520 entries, 0 to 519\n",
            "Data columns (total 12 columns):\n",
            " #   Column              Non-Null Count  Dtype \n",
            "---  ------              --------------  ----- \n",
            " 0   Age                 520 non-null    int64 \n",
            " 1   Gender              520 non-null    int64 \n",
            " 2   highurine           520 non-null    object\n",
            " 3   thirst              520 non-null    object\n",
            " 4   sudden weight loss  520 non-null    object\n",
            " 5   weakness            520 non-null    object\n",
            " 6   Polyphagia          520 non-null    object\n",
            " 7   visual blurring     520 non-null    object\n",
            " 8   Irritability        520 non-null    object\n",
            " 9   partial paresis     520 non-null    object\n",
            " 10  muscle stiffness    520 non-null    object\n",
            " 11  Obesity             520 non-null    object\n",
            "dtypes: int64(2), object(10)\n",
            "memory usage: 48.9+ KB\n",
            "None\n",
            "<class 'pandas.core.frame.DataFrame'>\n",
            "RangeIndex: 520 entries, 0 to 519\n",
            "Data columns (total 12 columns):\n",
            " #   Column              Non-Null Count  Dtype \n",
            "---  ------              --------------  ----- \n",
            " 0   Age                 520 non-null    int64 \n",
            " 1   Gender              520 non-null    int64 \n",
            " 2   highurine           520 non-null    int64 \n",
            " 3   thirst              520 non-null    object\n",
            " 4   sudden weight loss  520 non-null    object\n",
            " 5   weakness            520 non-null    object\n",
            " 6   Polyphagia          520 non-null    object\n",
            " 7   visual blurring     520 non-null    object\n",
            " 8   Irritability        520 non-null    object\n",
            " 9   partial paresis     520 non-null    object\n",
            " 10  muscle stiffness    520 non-null    object\n",
            " 11  Obesity             520 non-null    object\n",
            "dtypes: int64(3), object(9)\n",
            "memory usage: 48.9+ KB\n",
            "None\n",
            "<class 'pandas.core.frame.DataFrame'>\n",
            "RangeIndex: 520 entries, 0 to 519\n",
            "Data columns (total 12 columns):\n",
            " #   Column              Non-Null Count  Dtype \n",
            "---  ------              --------------  ----- \n",
            " 0   Age                 520 non-null    int64 \n",
            " 1   Gender              520 non-null    int64 \n",
            " 2   highurine           520 non-null    int64 \n",
            " 3   thirst              520 non-null    int64 \n",
            " 4   sudden weight loss  520 non-null    object\n",
            " 5   weakness            520 non-null    object\n",
            " 6   Polyphagia          520 non-null    object\n",
            " 7   visual blurring     520 non-null    object\n",
            " 8   Irritability        520 non-null    object\n",
            " 9   partial paresis     520 non-null    object\n",
            " 10  muscle stiffness    520 non-null    object\n",
            " 11  Obesity             520 non-null    object\n",
            "dtypes: int64(4), object(8)\n",
            "memory usage: 48.9+ KB\n",
            "None\n",
            "<class 'pandas.core.frame.DataFrame'>\n",
            "RangeIndex: 520 entries, 0 to 519\n",
            "Data columns (total 12 columns):\n",
            " #   Column              Non-Null Count  Dtype \n",
            "---  ------              --------------  ----- \n",
            " 0   Age                 520 non-null    int64 \n",
            " 1   Gender              520 non-null    int64 \n",
            " 2   highurine           520 non-null    int64 \n",
            " 3   thirst              520 non-null    int64 \n",
            " 4   sudden weight loss  520 non-null    int64 \n",
            " 5   weakness            520 non-null    object\n",
            " 6   Polyphagia          520 non-null    object\n",
            " 7   visual blurring     520 non-null    object\n",
            " 8   Irritability        520 non-null    object\n",
            " 9   partial paresis     520 non-null    object\n",
            " 10  muscle stiffness    520 non-null    object\n",
            " 11  Obesity             520 non-null    object\n",
            "dtypes: int64(5), object(7)\n",
            "memory usage: 48.9+ KB\n",
            "None\n",
            "<class 'pandas.core.frame.DataFrame'>\n",
            "RangeIndex: 520 entries, 0 to 519\n",
            "Data columns (total 12 columns):\n",
            " #   Column              Non-Null Count  Dtype \n",
            "---  ------              --------------  ----- \n",
            " 0   Age                 520 non-null    int64 \n",
            " 1   Gender              520 non-null    int64 \n",
            " 2   highurine           520 non-null    int64 \n",
            " 3   thirst              520 non-null    int64 \n",
            " 4   sudden weight loss  520 non-null    int64 \n",
            " 5   weakness            520 non-null    int64 \n",
            " 6   Polyphagia          520 non-null    object\n",
            " 7   visual blurring     520 non-null    object\n",
            " 8   Irritability        520 non-null    object\n",
            " 9   partial paresis     520 non-null    object\n",
            " 10  muscle stiffness    520 non-null    object\n",
            " 11  Obesity             520 non-null    object\n",
            "dtypes: int64(6), object(6)\n",
            "memory usage: 48.9+ KB\n",
            "None\n",
            "<class 'pandas.core.frame.DataFrame'>\n",
            "RangeIndex: 520 entries, 0 to 519\n",
            "Data columns (total 12 columns):\n",
            " #   Column              Non-Null Count  Dtype \n",
            "---  ------              --------------  ----- \n",
            " 0   Age                 520 non-null    int64 \n",
            " 1   Gender              520 non-null    int64 \n",
            " 2   highurine           520 non-null    int64 \n",
            " 3   thirst              520 non-null    int64 \n",
            " 4   sudden weight loss  520 non-null    int64 \n",
            " 5   weakness            520 non-null    int64 \n",
            " 6   Polyphagia          520 non-null    int64 \n",
            " 7   visual blurring     520 non-null    object\n",
            " 8   Irritability        520 non-null    object\n",
            " 9   partial paresis     520 non-null    object\n",
            " 10  muscle stiffness    520 non-null    object\n",
            " 11  Obesity             520 non-null    object\n",
            "dtypes: int64(7), object(5)\n",
            "memory usage: 48.9+ KB\n",
            "None\n",
            "<class 'pandas.core.frame.DataFrame'>\n",
            "RangeIndex: 520 entries, 0 to 519\n",
            "Data columns (total 12 columns):\n",
            " #   Column              Non-Null Count  Dtype \n",
            "---  ------              --------------  ----- \n",
            " 0   Age                 520 non-null    int64 \n",
            " 1   Gender              520 non-null    int64 \n",
            " 2   highurine           520 non-null    int64 \n",
            " 3   thirst              520 non-null    int64 \n",
            " 4   sudden weight loss  520 non-null    int64 \n",
            " 5   weakness            520 non-null    int64 \n",
            " 6   Polyphagia          520 non-null    int64 \n",
            " 7   visual blurring     520 non-null    int64 \n",
            " 8   Irritability        520 non-null    object\n",
            " 9   partial paresis     520 non-null    object\n",
            " 10  muscle stiffness    520 non-null    object\n",
            " 11  Obesity             520 non-null    object\n",
            "dtypes: int64(8), object(4)\n",
            "memory usage: 48.9+ KB\n",
            "None\n",
            "<class 'pandas.core.frame.DataFrame'>\n",
            "RangeIndex: 520 entries, 0 to 519\n",
            "Data columns (total 12 columns):\n",
            " #   Column              Non-Null Count  Dtype \n",
            "---  ------              --------------  ----- \n",
            " 0   Age                 520 non-null    int64 \n",
            " 1   Gender              520 non-null    int64 \n",
            " 2   highurine           520 non-null    int64 \n",
            " 3   thirst              520 non-null    int64 \n",
            " 4   sudden weight loss  520 non-null    int64 \n",
            " 5   weakness            520 non-null    int64 \n",
            " 6   Polyphagia          520 non-null    int64 \n",
            " 7   visual blurring     520 non-null    int64 \n",
            " 8   Irritability        520 non-null    int64 \n",
            " 9   partial paresis     520 non-null    object\n",
            " 10  muscle stiffness    520 non-null    object\n",
            " 11  Obesity             520 non-null    object\n",
            "dtypes: int64(9), object(3)\n",
            "memory usage: 48.9+ KB\n",
            "None\n",
            "<class 'pandas.core.frame.DataFrame'>\n",
            "RangeIndex: 520 entries, 0 to 519\n",
            "Data columns (total 12 columns):\n",
            " #   Column              Non-Null Count  Dtype \n",
            "---  ------              --------------  ----- \n",
            " 0   Age                 520 non-null    int64 \n",
            " 1   Gender              520 non-null    int64 \n",
            " 2   highurine           520 non-null    int64 \n",
            " 3   thirst              520 non-null    int64 \n",
            " 4   sudden weight loss  520 non-null    int64 \n",
            " 5   weakness            520 non-null    int64 \n",
            " 6   Polyphagia          520 non-null    int64 \n",
            " 7   visual blurring     520 non-null    int64 \n",
            " 8   Irritability        520 non-null    int64 \n",
            " 9   partial paresis     520 non-null    int64 \n",
            " 10  muscle stiffness    520 non-null    object\n",
            " 11  Obesity             520 non-null    object\n",
            "dtypes: int64(10), object(2)\n",
            "memory usage: 48.9+ KB\n",
            "None\n",
            "<class 'pandas.core.frame.DataFrame'>\n",
            "RangeIndex: 520 entries, 0 to 519\n",
            "Data columns (total 12 columns):\n",
            " #   Column              Non-Null Count  Dtype \n",
            "---  ------              --------------  ----- \n",
            " 0   Age                 520 non-null    int64 \n",
            " 1   Gender              520 non-null    int64 \n",
            " 2   highurine           520 non-null    int64 \n",
            " 3   thirst              520 non-null    int64 \n",
            " 4   sudden weight loss  520 non-null    int64 \n",
            " 5   weakness            520 non-null    int64 \n",
            " 6   Polyphagia          520 non-null    int64 \n",
            " 7   visual blurring     520 non-null    int64 \n",
            " 8   Irritability        520 non-null    int64 \n",
            " 9   partial paresis     520 non-null    int64 \n",
            " 10  muscle stiffness    520 non-null    int64 \n",
            " 11  Obesity             520 non-null    object\n",
            "dtypes: int64(11), object(1)\n",
            "memory usage: 48.9+ KB\n",
            "None\n",
            "<class 'pandas.core.frame.DataFrame'>\n",
            "RangeIndex: 520 entries, 0 to 519\n",
            "Data columns (total 12 columns):\n",
            " #   Column              Non-Null Count  Dtype\n",
            "---  ------              --------------  -----\n",
            " 0   Age                 520 non-null    int64\n",
            " 1   Gender              520 non-null    int64\n",
            " 2   highurine           520 non-null    int64\n",
            " 3   thirst              520 non-null    int64\n",
            " 4   sudden weight loss  520 non-null    int64\n",
            " 5   weakness            520 non-null    int64\n",
            " 6   Polyphagia          520 non-null    int64\n",
            " 7   visual blurring     520 non-null    int64\n",
            " 8   Irritability        520 non-null    int64\n",
            " 9   partial paresis     520 non-null    int64\n",
            " 10  muscle stiffness    520 non-null    int64\n",
            " 11  Obesity             520 non-null    int64\n",
            "dtypes: int64(12)\n",
            "memory usage: 48.9 KB\n",
            "None\n"
          ]
        }
      ]
    },
    {
      "cell_type": "code",
      "metadata": {
        "colab": {
          "base_uri": "https://localhost:8080/",
          "height": 220
        },
        "id": "jVEmRtUqlLRY",
        "outputId": "131a0f04-c94e-46c1-b21c-d10d262e18ed"
      },
      "source": [
        "X.head()"
      ],
      "execution_count": null,
      "outputs": [
        {
          "data": {
            "text/html": [
              "<div>\n",
              "<style scoped>\n",
              "    .dataframe tbody tr th:only-of-type {\n",
              "        vertical-align: middle;\n",
              "    }\n",
              "\n",
              "    .dataframe tbody tr th {\n",
              "        vertical-align: top;\n",
              "    }\n",
              "\n",
              "    .dataframe thead th {\n",
              "        text-align: right;\n",
              "    }\n",
              "</style>\n",
              "<table border=\"1\" class=\"dataframe\">\n",
              "  <thead>\n",
              "    <tr style=\"text-align: right;\">\n",
              "      <th></th>\n",
              "      <th>Age</th>\n",
              "      <th>Gender</th>\n",
              "      <th>highurine</th>\n",
              "      <th>thirst</th>\n",
              "      <th>sudden weight loss</th>\n",
              "      <th>weakness</th>\n",
              "      <th>Polyphagia</th>\n",
              "      <th>visual blurring</th>\n",
              "      <th>Irritability</th>\n",
              "      <th>partial paresis</th>\n",
              "      <th>muscle stiffness</th>\n",
              "      <th>Obesity</th>\n",
              "    </tr>\n",
              "  </thead>\n",
              "  <tbody>\n",
              "    <tr>\n",
              "      <th>0</th>\n",
              "      <td>40</td>\n",
              "      <td>1</td>\n",
              "      <td>0</td>\n",
              "      <td>1</td>\n",
              "      <td>0</td>\n",
              "      <td>1</td>\n",
              "      <td>0</td>\n",
              "      <td>0</td>\n",
              "      <td>0</td>\n",
              "      <td>0</td>\n",
              "      <td>1</td>\n",
              "      <td>1</td>\n",
              "    </tr>\n",
              "    <tr>\n",
              "      <th>1</th>\n",
              "      <td>58</td>\n",
              "      <td>1</td>\n",
              "      <td>0</td>\n",
              "      <td>0</td>\n",
              "      <td>0</td>\n",
              "      <td>1</td>\n",
              "      <td>0</td>\n",
              "      <td>1</td>\n",
              "      <td>0</td>\n",
              "      <td>1</td>\n",
              "      <td>0</td>\n",
              "      <td>0</td>\n",
              "    </tr>\n",
              "    <tr>\n",
              "      <th>2</th>\n",
              "      <td>41</td>\n",
              "      <td>1</td>\n",
              "      <td>1</td>\n",
              "      <td>0</td>\n",
              "      <td>0</td>\n",
              "      <td>1</td>\n",
              "      <td>1</td>\n",
              "      <td>0</td>\n",
              "      <td>0</td>\n",
              "      <td>0</td>\n",
              "      <td>1</td>\n",
              "      <td>0</td>\n",
              "    </tr>\n",
              "    <tr>\n",
              "      <th>3</th>\n",
              "      <td>45</td>\n",
              "      <td>1</td>\n",
              "      <td>0</td>\n",
              "      <td>0</td>\n",
              "      <td>1</td>\n",
              "      <td>1</td>\n",
              "      <td>1</td>\n",
              "      <td>0</td>\n",
              "      <td>0</td>\n",
              "      <td>0</td>\n",
              "      <td>0</td>\n",
              "      <td>0</td>\n",
              "    </tr>\n",
              "    <tr>\n",
              "      <th>4</th>\n",
              "      <td>60</td>\n",
              "      <td>1</td>\n",
              "      <td>1</td>\n",
              "      <td>1</td>\n",
              "      <td>1</td>\n",
              "      <td>1</td>\n",
              "      <td>1</td>\n",
              "      <td>1</td>\n",
              "      <td>1</td>\n",
              "      <td>1</td>\n",
              "      <td>1</td>\n",
              "      <td>1</td>\n",
              "    </tr>\n",
              "  </tbody>\n",
              "</table>\n",
              "</div>"
            ],
            "text/plain": [
              "   Age  Gender  highurine  ...  partial paresis  muscle stiffness  Obesity\n",
              "0   40       1          0  ...                0                 1        1\n",
              "1   58       1          0  ...                1                 0        0\n",
              "2   41       1          1  ...                0                 1        0\n",
              "3   45       1          0  ...                0                 0        0\n",
              "4   60       1          1  ...                1                 1        1\n",
              "\n",
              "[5 rows x 12 columns]"
            ]
          },
          "execution_count": 14,
          "metadata": {},
          "output_type": "execute_result"
        }
      ]
    },
    {
      "cell_type": "code",
      "metadata": {
        "colab": {
          "base_uri": "https://localhost:8080/"
        },
        "id": "oN5oxFNslYo-",
        "outputId": "5118b08b-ed11-4f8e-9164-b747dc04f6cc"
      },
      "source": [
        "#correlation\n",
        "\n",
        "X.corrwith(y)"
      ],
      "execution_count": null,
      "outputs": [
        {
          "data": {
            "text/plain": [
              "Age                   0.108679\n",
              "Gender               -0.449233\n",
              "highurine             0.665922\n",
              "thirst                0.648734\n",
              "sudden weight loss    0.436568\n",
              "weakness              0.243275\n",
              "Polyphagia            0.342504\n",
              "visual blurring       0.251300\n",
              "Irritability          0.299467\n",
              "partial paresis       0.432288\n",
              "muscle stiffness      0.122474\n",
              "Obesity               0.072173\n",
              "dtype: float64"
            ]
          },
          "execution_count": 15,
          "metadata": {},
          "output_type": "execute_result"
        }
      ]
    },
    {
      "cell_type": "code",
      "metadata": {
        "colab": {
          "base_uri": "https://localhost:8080/",
          "height": 542
        },
        "id": "5nrfAlCfnAh2",
        "outputId": "01457b56-07cd-4006-c279-298ca9579508"
      },
      "source": [
        "#correlation with response variable class \n",
        "\n",
        "X.corrwith(y).plot.bar(figsize = (16,6), title = \"Diabetes correlation\", fontsize=15, rot = 90,grid = True)\n"
      ],
      "execution_count": null,
      "outputs": [
        {
          "data": {
            "text/plain": [
              "<matplotlib.axes._subplots.AxesSubplot at 0x7f269bb30890>"
            ]
          },
          "execution_count": 16,
          "metadata": {},
          "output_type": "execute_result"
        },
        {
          "data": {
            "image/png": "[encoded data removed]",
            "text/plain": [
              "<Figure size 1152x432 with 1 Axes>"
            ]
          },
          "metadata": {},
          "output_type": "display_data"
        }
      ]
    },
    {
      "cell_type": "markdown",
      "metadata": {
        "id": "FPSyjkVypCok"
      },
      "source": [
        "Train test split"
      ]
    },
    {
      "cell_type": "code",
      "metadata": {
        "id": "GWustl4mpEp0"
      },
      "source": [
        "X_train, X_test, y_train, y_test = train_test_split(X, y, test_size= 0.2, stratify=y,random_state =1234)"
      ],
      "execution_count": null,
      "outputs": []
    },
    {
      "cell_type": "code",
      "metadata": {
        "colab": {
          "base_uri": "https://localhost:8080/"
        },
        "id": "7B2eM51WpqtW",
        "outputId": "387dc6a3-7828-4702-f001-0277db79ca5b"
      },
      "source": [
        "#target variable distribution checking\n",
        "print('Distribution of target variable in training set')\n",
        "print(y_train.value_counts())\n",
        "\n",
        "print('Distribution of target variable in test set')\n",
        "print(y_test.value_counts())\n"
      ],
      "execution_count": null,
      "outputs": [
        {
          "name": "stdout",
          "output_type": "stream",
          "text": [
            "Distribution of target variable in training set\n",
            "1    256\n",
            "0    160\n",
            "Name: class, dtype: int64\n",
            "Distribution of target variable in test set\n",
            "1    64\n",
            "0    40\n",
            "Name: class, dtype: int64\n"
          ]
        }
      ]
    },
    {
      "cell_type": "code",
      "metadata": {
        "id": "QQU5HatrqZ2N"
      },
      "source": [
        "#data normalization\n",
        "\n",
        "minmax = MinMaxScaler()\n",
        "X_train[['Age']] = minmax.fit_transform(X_train[['Age']])\n",
        "X_test[['Age']] = minmax.transform(X_test[['Age']])"
      ],
      "execution_count": null,
      "outputs": []
    },
    {
      "cell_type": "code",
      "metadata": {
        "colab": {
          "base_uri": "https://localhost:8080/",
          "height": 220
        },
        "id": "vKHSVgsSq2UO",
        "outputId": "08419743-1996-45c5-8b2d-dd811a9beaa2"
      },
      "source": [
        "X_train.head()"
      ],
      "execution_count": null,
      "outputs": [
        {
          "data": {
            "text/html": [
              "<div>\n",
              "<style scoped>\n",
              "    .dataframe tbody tr th:only-of-type {\n",
              "        vertical-align: middle;\n",
              "    }\n",
              "\n",
              "    .dataframe tbody tr th {\n",
              "        vertical-align: top;\n",
              "    }\n",
              "\n",
              "    .dataframe thead th {\n",
              "        text-align: right;\n",
              "    }\n",
              "</style>\n",
              "<table border=\"1\" class=\"dataframe\">\n",
              "  <thead>\n",
              "    <tr style=\"text-align: right;\">\n",
              "      <th></th>\n",
              "      <th>Age</th>\n",
              "      <th>Gender</th>\n",
              "      <th>highurine</th>\n",
              "      <th>thirst</th>\n",
              "      <th>sudden weight loss</th>\n",
              "      <th>weakness</th>\n",
              "      <th>Polyphagia</th>\n",
              "      <th>visual blurring</th>\n",
              "      <th>Irritability</th>\n",
              "      <th>partial paresis</th>\n",
              "      <th>muscle stiffness</th>\n",
              "      <th>Obesity</th>\n",
              "    </tr>\n",
              "  </thead>\n",
              "  <tbody>\n",
              "    <tr>\n",
              "      <th>246</th>\n",
              "      <td>0.405405</td>\n",
              "      <td>1</td>\n",
              "      <td>0</td>\n",
              "      <td>0</td>\n",
              "      <td>0</td>\n",
              "      <td>1</td>\n",
              "      <td>0</td>\n",
              "      <td>0</td>\n",
              "      <td>0</td>\n",
              "      <td>0</td>\n",
              "      <td>0</td>\n",
              "      <td>0</td>\n",
              "    </tr>\n",
              "    <tr>\n",
              "      <th>274</th>\n",
              "      <td>0.554054</td>\n",
              "      <td>1</td>\n",
              "      <td>0</td>\n",
              "      <td>0</td>\n",
              "      <td>0</td>\n",
              "      <td>0</td>\n",
              "      <td>1</td>\n",
              "      <td>1</td>\n",
              "      <td>0</td>\n",
              "      <td>0</td>\n",
              "      <td>1</td>\n",
              "      <td>0</td>\n",
              "    </tr>\n",
              "    <tr>\n",
              "      <th>424</th>\n",
              "      <td>0.364865</td>\n",
              "      <td>1</td>\n",
              "      <td>1</td>\n",
              "      <td>1</td>\n",
              "      <td>1</td>\n",
              "      <td>1</td>\n",
              "      <td>0</td>\n",
              "      <td>0</td>\n",
              "      <td>0</td>\n",
              "      <td>0</td>\n",
              "      <td>0</td>\n",
              "      <td>0</td>\n",
              "    </tr>\n",
              "    <tr>\n",
              "      <th>316</th>\n",
              "      <td>0.527027</td>\n",
              "      <td>0</td>\n",
              "      <td>0</td>\n",
              "      <td>0</td>\n",
              "      <td>0</td>\n",
              "      <td>1</td>\n",
              "      <td>0</td>\n",
              "      <td>0</td>\n",
              "      <td>0</td>\n",
              "      <td>1</td>\n",
              "      <td>0</td>\n",
              "      <td>0</td>\n",
              "    </tr>\n",
              "    <tr>\n",
              "      <th>159</th>\n",
              "      <td>0.297297</td>\n",
              "      <td>0</td>\n",
              "      <td>1</td>\n",
              "      <td>1</td>\n",
              "      <td>1</td>\n",
              "      <td>1</td>\n",
              "      <td>1</td>\n",
              "      <td>1</td>\n",
              "      <td>1</td>\n",
              "      <td>1</td>\n",
              "      <td>1</td>\n",
              "      <td>0</td>\n",
              "    </tr>\n",
              "  </tbody>\n",
              "</table>\n",
              "</div>"
            ],
            "text/plain": [
              "          Age  Gender  highurine  ...  partial paresis  muscle stiffness  Obesity\n",
              "246  0.405405       1          0  ...                0                 0        0\n",
              "274  0.554054       1          0  ...                0                 1        0\n",
              "424  0.364865       1          1  ...                0                 0        0\n",
              "316  0.527027       0          0  ...                1                 0        0\n",
              "159  0.297297       0          1  ...                1                 1        0\n",
              "\n",
              "[5 rows x 12 columns]"
            ]
          },
          "execution_count": 20,
          "metadata": {},
          "output_type": "execute_result"
        }
      ]
    },
    {
      "cell_type": "markdown",
      "metadata": {
        "id": "5r_3RS5CrFX0"
      },
      "source": [
        "Model Building\n"
      ]
    },
    {
      "cell_type": "code",
      "metadata": {
        "colab": {
          "base_uri": "https://localhost:8080/"
        },
        "id": "SRExu6SCrJKb",
        "outputId": "7ba831b6-1f17-41a8-a9ad-520f6a385510"
      },
      "source": [
        "#logistic regression\n",
        "logis = LogisticRegression(random_state = 0, penalty = \"l2\")\n",
        "logis.fit(X_train, y_train)"
      ],
      "execution_count": null,
      "outputs": [
        {
          "data": {
            "text/plain": [
              "LogisticRegression(C=1.0, class_weight=None, dual=False, fit_intercept=True,\n",
              "                   intercept_scaling=1, l1_ratio=None, max_iter=100,\n",
              "                   multi_class='auto', n_jobs=None, penalty='l2',\n",
              "                   random_state=0, solver='lbfgs', tol=0.0001, verbose=0,\n",
              "                   warm_start=False)"
            ]
          },
          "execution_count": 21,
          "metadata": {},
          "output_type": "execute_result"
        }
      ]
    },
    {
      "cell_type": "code",
      "metadata": {
        "colab": {
          "base_uri": "https://localhost:8080/"
        },
        "id": "JrWYb-F6o3c9",
        "outputId": "10856f65-a51b-4ac9-9147-59a969413c97"
      },
      "source": [
        "from sklearn import model_selection\n",
        "\n",
        "kfold = model_selection.KFold(n_splits = 10, random_state=7)\n",
        "scoring = \"accuracy\"\n",
        "\n",
        "acc_logi = cross_val_score(estimator=logis, X = X_train, y = y_train,cv = kfold,scoring = scoring)\n",
        "acc_logi.mean()"
      ],
      "execution_count": null,
      "outputs": [
        {
          "data": {
            "text/plain": [
              "0.8797328687572591"
            ]
          },
          "execution_count": 22,
          "metadata": {},
          "output_type": "execute_result"
        }
      ]
    },
    {
      "cell_type": "code",
      "metadata": {
        "colab": {
          "base_uri": "https://localhost:8080/",
          "height": 80
        },
        "id": "wJt-Aqyhptvh",
        "outputId": "81f29531-2388-4eec-8c40-786438c26eae"
      },
      "source": [
        "y_predict_logi = logis.predict(X_test)\n",
        "acc = accuracy_score(y_test, y_predict_logi)\n",
        "roc = roc_auc_score(y_test, y_predict_logi)\n",
        "prec = precision_score(y_test, y_predict_logi)\n",
        "rec = recall_score(y_test, y_predict_logi)\n",
        "f1 = f1_score(y_test,y_predict_logi)\n",
        "\n",
        "results = pd.DataFrame([[\"LogisticRegression\",acc, acc_logi.mean(),prec, rec,f1, roc]],\n",
        "                       columns = [\"Model\", \"Accuracy\", \"Cross Val Accuracy\", \"Precision\", \"Recall\", \"F1 Score\", \"ROC\"])\n",
        "results\n",
        "\n",
        "\n",
        "\n"
      ],
      "execution_count": null,
      "outputs": [
        {
          "data": {
            "text/html": [
              "<div>\n",
              "<style scoped>\n",
              "    .dataframe tbody tr th:only-of-type {\n",
              "        vertical-align: middle;\n",
              "    }\n",
              "\n",
              "    .dataframe tbody tr th {\n",
              "        vertical-align: top;\n",
              "    }\n",
              "\n",
              "    .dataframe thead th {\n",
              "        text-align: right;\n",
              "    }\n",
              "</style>\n",
              "<table border=\"1\" class=\"dataframe\">\n",
              "  <thead>\n",
              "    <tr style=\"text-align: right;\">\n",
              "      <th></th>\n",
              "      <th>Model</th>\n",
              "      <th>Accuracy</th>\n",
              "      <th>Cross Val Accuracy</th>\n",
              "      <th>Precision</th>\n",
              "      <th>Recall</th>\n",
              "      <th>F1 Score</th>\n",
              "      <th>ROC</th>\n",
              "    </tr>\n",
              "  </thead>\n",
              "  <tbody>\n",
              "    <tr>\n",
              "      <th>0</th>\n",
              "      <td>LogisticRegression</td>\n",
              "      <td>0.932692</td>\n",
              "      <td>0.879733</td>\n",
              "      <td>0.952381</td>\n",
              "      <td>0.9375</td>\n",
              "      <td>0.944882</td>\n",
              "      <td>0.93125</td>\n",
              "    </tr>\n",
              "  </tbody>\n",
              "</table>\n",
              "</div>"
            ],
            "text/plain": [
              "                Model  Accuracy  Cross Val Accuracy  ...  Recall  F1 Score      ROC\n",
              "0  LogisticRegression  0.932692            0.879733  ...  0.9375  0.944882  0.93125\n",
              "\n",
              "[1 rows x 7 columns]"
            ]
          },
          "execution_count": 23,
          "metadata": {},
          "output_type": "execute_result"
        }
      ]
    },
    {
      "cell_type": "code",
      "metadata": {
        "colab": {
          "base_uri": "https://localhost:8080/",
          "height": 281
        },
        "id": "Q4lQkaR9uOB6",
        "outputId": "499dcd48-364a-4841-aa2e-d96b46cbe242"
      },
      "source": [
        "cm_logi = confusion_matrix(y_test, y_predict_logi)\n",
        "plt.title(\"Confusion matrix of logistic classifier\")\n",
        "sns.heatmap(cm_logi, annot = True, fmt =\"d\")\n",
        "plt.show()"
      ],
      "execution_count": null,
      "outputs": [
        {
          "data": {
            "image/png": "[encoded data removed]",
            "text/plain": [
              "<Figure size 432x288 with 2 Axes>"
            ]
          },
          "metadata": {},
          "output_type": "display_data"
        }
      ]
    },
    {
      "cell_type": "code",
      "metadata": {
        "colab": {
          "base_uri": "https://localhost:8080/"
        },
        "id": "iyR2asxouvS7",
        "outputId": "dfa6fe17-7192-4a8f-8ffd-c2ec8c41e6ad"
      },
      "source": [
        "TP = cm_logi[1,1] #true positive\n",
        "TN = cm_logi[0,0] #true negative\n",
        "FP = cm_logi[0,1] #false positive\n",
        "FN = cm_logi[1,0] #false negative\n",
        "TN/float(TN+FP) #calculating specificity"
      ],
      "execution_count": null,
      "outputs": [
        {
          "data": {
            "text/plain": [
              "0.925"
            ]
          },
          "execution_count": 29,
          "metadata": {},
          "output_type": "execute_result"
        }
      ]
    },
    {
      "cell_type": "code",
      "metadata": {
        "colab": {
          "base_uri": "https://localhost:8080/",
          "height": 585
        },
        "id": "OqqMjjFEw_vD",
        "outputId": "5884da33-6e54-4462-d032-d28fc673aebc"
      },
      "source": [
        "feature_importance = abs(logis.coef_[0])\n",
        "feature_importance = 100.0*(feature_importance/feature_importance.max())\n",
        "sorted_idx = np.argsort(feature_importance)\n",
        "pos = np.arange(sorted_idx.shape[0]) + .3\n",
        "\n",
        "featfig = plt.figure(figsize=(12,8))\n",
        "featax = featfig.add_subplot(1,1,1)\n",
        "featax.barh(pos, feature_importance[sorted_idx], align=\"center\")\n",
        "featax.set_yticks(pos)\n",
        "featax.set_yticklabels(np.array(X_train.columns)[sorted_idx],fontsize = 8)\n",
        "featax.set_xlabel(\"Relative Feature Importance\")\n",
        "plt.tight_layout()\n",
        "plt.show()"
      ],
      "execution_count": null,
      "outputs": [
        {
          "data": {
            "image/png": "[encoded data removed]",
            "text/plain": [
              "<Figure size 864x576 with 1 Axes>"
            ]
          },
          "metadata": {},
          "output_type": "display_data"
        }
      ]
    }
  ]
}